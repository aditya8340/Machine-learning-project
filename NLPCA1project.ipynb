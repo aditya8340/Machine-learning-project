{
  "nbformat": 4,
  "nbformat_minor": 0,
  "metadata": {
    "colab": {
      "provenance": []
    },
    "kernelspec": {
      "name": "python3",
      "display_name": "Python 3"
    },
    "language_info": {
      "name": "python"
    }
  },
  "cells": [
    {
      "cell_type": "code",
      "execution_count": null,
      "metadata": {
        "colab": {
          "base_uri": "https://localhost:8080/"
        },
        "id": "qIpqIOe6oMwP",
        "outputId": "6e5c1daf-f8fb-43a0-e951-b7e162ab596f"
      },
      "outputs": [
        {
          "output_type": "stream",
          "name": "stdout",
          "text": [
            "Collecting sklearn-crfsuite\n",
            "  Downloading sklearn_crfsuite-0.5.0-py2.py3-none-any.whl.metadata (4.9 kB)\n",
            "Collecting python-crfsuite>=0.9.7 (from sklearn-crfsuite)\n",
            "  Downloading python_crfsuite-0.9.11-cp310-cp310-manylinux_2_17_x86_64.manylinux2014_x86_64.whl.metadata (4.3 kB)\n",
            "Requirement already satisfied: scikit-learn>=0.24.0 in /usr/local/lib/python3.10/dist-packages (from sklearn-crfsuite) (1.5.2)\n",
            "Requirement already satisfied: tabulate>=0.4.2 in /usr/local/lib/python3.10/dist-packages (from sklearn-crfsuite) (0.9.0)\n",
            "Requirement already satisfied: tqdm>=2.0 in /usr/local/lib/python3.10/dist-packages (from sklearn-crfsuite) (4.66.6)\n",
            "Requirement already satisfied: numpy>=1.19.5 in /usr/local/lib/python3.10/dist-packages (from scikit-learn>=0.24.0->sklearn-crfsuite) (1.26.4)\n",
            "Requirement already satisfied: scipy>=1.6.0 in /usr/local/lib/python3.10/dist-packages (from scikit-learn>=0.24.0->sklearn-crfsuite) (1.13.1)\n",
            "Requirement already satisfied: joblib>=1.2.0 in /usr/local/lib/python3.10/dist-packages (from scikit-learn>=0.24.0->sklearn-crfsuite) (1.4.2)\n",
            "Requirement already satisfied: threadpoolctl>=3.1.0 in /usr/local/lib/python3.10/dist-packages (from scikit-learn>=0.24.0->sklearn-crfsuite) (3.5.0)\n",
            "Downloading sklearn_crfsuite-0.5.0-py2.py3-none-any.whl (10 kB)\n",
            "Downloading python_crfsuite-0.9.11-cp310-cp310-manylinux_2_17_x86_64.manylinux2014_x86_64.whl (1.2 MB)\n",
            "\u001b[2K   \u001b[90m━━━━━━━━━━━━━━━━━━━━━━━━━━━━━━━━━━━━━━━━\u001b[0m \u001b[32m1.2/1.2 MB\u001b[0m \u001b[31m38.9 MB/s\u001b[0m eta \u001b[36m0:00:00\u001b[0m\n",
            "\u001b[?25hInstalling collected packages: python-crfsuite, sklearn-crfsuite\n",
            "Successfully installed python-crfsuite-0.9.11 sklearn-crfsuite-0.5.0\n"
          ]
        }
      ],
      "source": [
        "!pip install sklearn-crfsuite\n"
      ]
    },
    {
      "cell_type": "code",
      "source": [
        "\n",
        "# import nltk\n",
        "# import numpy as np\n",
        "# from sklearn_crfsuite import CRF\n",
        "# from keras.models import Sequential\n",
        "# from keras.layers import Embedding, LSTM, Dense, Bidirectional\n",
        "# from nltk.corpus import treebank\n",
        "# from sklearn.metrics import classification_report\n",
        "\n",
        "# # Step 1: Load and preprocess dataset for POS tagging\n",
        "# nltk.download('treebank')\n",
        "# sentences = treebank.tagged_sents()\n",
        "# train_sents, test_sents = sentences[:3000], sentences[3000:]\n",
        "\n",
        "# # Step 2: Prepare data for Probabilistic Model - CRF\n",
        "# def prepare_data_crf(sents):\n",
        "#     return [[(word, tag) for word, tag in sent] for sent in sents]\n",
        "\n",
        "# train_data_crf = prepare_data_crf(train_sents)\n",
        "# test_data_crf = prepare_data_crf(test_sents)\n",
        "\n",
        "# # Step 3: CRF Model for POS Tagging\n",
        "# crf = CRF(algorithm='lbfgs')\n",
        "# crf.fit([x for x, _ in train_data_crf], [y for _, y in train_data_crf])\n",
        "\n",
        "# # Step 4: Prepare data for Neural Model - BiLSTM\n",
        "# def prepare_data_lstm(sents):\n",
        "#     words, tags = [], []\n",
        "#     for sent in sents:\n",
        "#         words.append([word for word, tag in sent])\n",
        "#         tags.append([tag for word, tag in sent])\n",
        "#     return words, tags\n",
        "\n",
        "# train_words, train_tags = prepare_data_lstm(train_sents)\n",
        "# test_words, test_tags = prepare_data_lstm(test_sents)\n",
        "\n",
        "# # Step 5: LSTM Model for POS Tagging\n",
        "# model = Sequential()\n",
        "# model.add(Embedding(input_dim=vocab_size, output_dim=embedding_dim))\n",
        "# model.add(Bidirectional(LSTM(units=64, return_sequences=True)))\n",
        "# model.add(Dense(num_tags, activation=\"softmax\"))\n",
        "# model.compile(optimizer=\"adam\", loss=\"categorical_crossentropy\", metrics=[\"accuracy\"])\n",
        "\n",
        "# model.fit(train_words, train_tags, epochs=5)\n",
        "\n",
        "# # Evaluation and comparison metrics can be added here\n"
      ],
      "metadata": {
        "id": "YivhwhEioxMR"
      },
      "execution_count": null,
      "outputs": []
    },
    {
      "cell_type": "code",
      "source": [
        "import nltk\n",
        "import numpy as np\n",
        "from sklearn_crfsuite import CRF\n",
        "from keras.models import Sequential\n",
        "from keras.layers import Embedding, LSTM, Dense, Bidirectional\n",
        "from nltk.corpus import treebank\n",
        "from sklearn.metrics import classification_report\n",
        "from itertools import chain\n",
        "\n",
        "# Step 1: Load and preprocess dataset for POS tagging\n",
        "nltk.download('treebank')\n",
        "sentences = treebank.tagged_sents()\n",
        "train_sents, test_sents = sentences[:3000], sentences[3000:]\n",
        "\n",
        "# Step 2: Define feature extraction function for each word\n",
        "def word2features(sent, i):\n",
        "    word = sent[i][0]\n",
        "    features = {\n",
        "        'word.lower()': word.lower(),\n",
        "        'word.isupper()': word.isupper(),\n",
        "        'word.istitle()': word.istitle(),\n",
        "        'word.isdigit()': word.isdigit(),\n",
        "    }\n",
        "    if i > 0:\n",
        "        features.update({\n",
        "            '-1:word.lower()': sent[i-1][0].lower(),\n",
        "            '-1:word.istitle()': sent[i-1][0].istitle(),\n",
        "            '-1:word.isupper()': sent[i-1][0].isupper(),\n",
        "        })\n",
        "    else:\n",
        "        features['BOS'] = True  # Beginning of sentence\n",
        "\n",
        "    if i < len(sent)-1:\n",
        "        features.update({\n",
        "            '+1:word.lower()': sent[i+1][0].lower(),\n",
        "            '+1:word.istitle()': sent[i+1][0].istitle(),\n",
        "            '+1:word.isupper()': sent[i+1][0].isupper(),\n",
        "        })\n",
        "    else:\n",
        "        features['EOS'] = True  # End of sentence\n",
        "\n",
        "    return features\n",
        "\n",
        "def prepare_data_crf(sents):\n",
        "    X, y = [], []\n",
        "    for sent in sents:\n",
        "        X.append([word2features(sent, i) for i in range(len(sent))])\n",
        "        y.append([tag for _, tag in sent])\n",
        "    return X, y\n",
        "\n",
        "# Step 3: Prepare data for CRF\n",
        "train_X, train_y = prepare_data_crf(train_sents)\n",
        "test_X, test_y = prepare_data_crf(test_sents)\n",
        "\n",
        "# Step 4: CRF Model for POS Tagging\n",
        "crf = CRF(algorithm='lbfgs')\n",
        "crf.fit(train_X, train_y)\n",
        "\n",
        "# Step 5: Evaluation\n",
        "y_pred = crf.predict(test_X)\n",
        "\n",
        "# Flatten the lists of true labels and predicted labels\n",
        "def flatten(lst):\n",
        "    return list(chain.from_iterable(lst))\n",
        "\n",
        "test_y_flat = flatten(test_y)\n",
        "y_pred_flat = flatten(y_pred)\n",
        "\n",
        "# Print classification report\n",
        "print(classification_report(test_y_flat, y_pred_flat))\n"
      ],
      "metadata": {
        "colab": {
          "base_uri": "https://localhost:8080/"
        },
        "id": "UKJ6hC7mpJSV",
        "outputId": "ab045e46-8ec3-409c-ef48-a5e32b71e719"
      },
      "execution_count": null,
      "outputs": [
        {
          "output_type": "stream",
          "name": "stderr",
          "text": [
            "[nltk_data] Downloading package treebank to /root/nltk_data...\n",
            "[nltk_data]   Package treebank is already up-to-date!\n"
          ]
        },
        {
          "output_type": "stream",
          "name": "stdout",
          "text": [
            "              precision    recall  f1-score   support\n",
            "\n",
            "           #       1.00      0.67      0.80         3\n",
            "           $       1.00      1.00      1.00       255\n",
            "          ''       1.00      1.00      1.00        92\n",
            "           ,       1.00      1.00      1.00      1106\n",
            "       -LRB-       1.00      1.00      1.00        32\n",
            "      -NONE-       0.97      1.00      0.98      1503\n",
            "       -RRB-       1.00      1.00      1.00        32\n",
            "           .       1.00      1.00      1.00       891\n",
            "           :       1.00      1.00      1.00        81\n",
            "          CC       1.00      1.00      1.00       503\n",
            "          CD       0.99      0.88      0.93      1208\n",
            "          DT       0.99      0.99      0.99      1831\n",
            "          EX       1.00      1.00      1.00        11\n",
            "          IN       0.97      0.97      0.97      2298\n",
            "          JJ       0.67      0.81      0.74      1283\n",
            "         JJR       0.86      0.70      0.77        94\n",
            "         JJS       0.93      0.60      0.72        42\n",
            "          MD       0.99      1.00      0.99       225\n",
            "          NN       0.83      0.90      0.86      3320\n",
            "         NNP       0.92      0.97      0.94      2118\n",
            "        NNPS       0.75      0.04      0.07        79\n",
            "         NNS       0.88      0.79      0.83      1332\n",
            "         PDT       0.00      0.00      0.00         6\n",
            "         POS       0.99      1.00      0.99       227\n",
            "         PRP       1.00      0.97      0.98       245\n",
            "        PRP$       1.00      0.99      1.00       133\n",
            "          RB       0.85      0.72      0.78       545\n",
            "         RBR       0.53      0.44      0.48        18\n",
            "         RBS       0.67      0.67      0.67         6\n",
            "          RP       0.58      0.71      0.64        35\n",
            "          TO       1.00      1.00      1.00       519\n",
            "          VB       0.87      0.91      0.89       550\n",
            "         VBD       0.91      0.86      0.89       904\n",
            "         VBG       0.76      0.61      0.68       306\n",
            "         VBN       0.86      0.77      0.81       522\n",
            "         VBP       0.85      0.81      0.83       177\n",
            "         VBZ       0.93      0.85      0.89       358\n",
            "         WDT       0.98      1.00      0.99       120\n",
            "          WP       1.00      1.00      1.00        26\n",
            "         WP$       0.00      0.00      0.00         4\n",
            "         WRB       1.00      0.80      0.89        30\n",
            "          ``       1.00      1.00      1.00        95\n",
            "\n",
            "    accuracy                           0.91     23165\n",
            "   macro avg       0.87      0.82      0.83     23165\n",
            "weighted avg       0.92      0.91      0.91     23165\n",
            "\n"
          ]
        },
        {
          "output_type": "stream",
          "name": "stderr",
          "text": [
            "/usr/local/lib/python3.10/dist-packages/sklearn/metrics/_classification.py:1531: UndefinedMetricWarning: Precision is ill-defined and being set to 0.0 in labels with no predicted samples. Use `zero_division` parameter to control this behavior.\n",
            "  _warn_prf(average, modifier, f\"{metric.capitalize()} is\", len(result))\n",
            "/usr/local/lib/python3.10/dist-packages/sklearn/metrics/_classification.py:1531: UndefinedMetricWarning: Precision is ill-defined and being set to 0.0 in labels with no predicted samples. Use `zero_division` parameter to control this behavior.\n",
            "  _warn_prf(average, modifier, f\"{metric.capitalize()} is\", len(result))\n",
            "/usr/local/lib/python3.10/dist-packages/sklearn/metrics/_classification.py:1531: UndefinedMetricWarning: Precision is ill-defined and being set to 0.0 in labels with no predicted samples. Use `zero_division` parameter to control this behavior.\n",
            "  _warn_prf(average, modifier, f\"{metric.capitalize()} is\", len(result))\n"
          ]
        }
      ]
    },
    {
      "cell_type": "code",
      "source": [
        "pip install sklearn-crfsuite keras tensorflow pyspellchecker"
      ],
      "metadata": {
        "colab": {
          "base_uri": "https://localhost:8080/"
        },
        "id": "4kLGdin2Cf57",
        "outputId": "a70bc7b3-b831-498c-bf86-38b3e1315d65"
      },
      "execution_count": 2,
      "outputs": [
        {
          "output_type": "stream",
          "name": "stdout",
          "text": [
            "Collecting sklearn-crfsuite\n",
            "  Downloading sklearn_crfsuite-0.5.0-py2.py3-none-any.whl.metadata (4.9 kB)\n",
            "Requirement already satisfied: keras in /usr/local/lib/python3.10/dist-packages (3.4.1)\n",
            "Requirement already satisfied: tensorflow in /usr/local/lib/python3.10/dist-packages (2.17.0)\n",
            "Collecting pyspellchecker\n",
            "  Downloading pyspellchecker-0.8.1-py3-none-any.whl.metadata (9.4 kB)\n",
            "Collecting python-crfsuite>=0.9.7 (from sklearn-crfsuite)\n",
            "  Downloading python_crfsuite-0.9.11-cp310-cp310-manylinux_2_17_x86_64.manylinux2014_x86_64.whl.metadata (4.3 kB)\n",
            "Requirement already satisfied: scikit-learn>=0.24.0 in /usr/local/lib/python3.10/dist-packages (from sklearn-crfsuite) (1.5.2)\n",
            "Requirement already satisfied: tabulate>=0.4.2 in /usr/local/lib/python3.10/dist-packages (from sklearn-crfsuite) (0.9.0)\n",
            "Requirement already satisfied: tqdm>=2.0 in /usr/local/lib/python3.10/dist-packages (from sklearn-crfsuite) (4.66.6)\n",
            "Requirement already satisfied: absl-py in /usr/local/lib/python3.10/dist-packages (from keras) (1.4.0)\n",
            "Requirement already satisfied: numpy in /usr/local/lib/python3.10/dist-packages (from keras) (1.26.4)\n",
            "Requirement already satisfied: rich in /usr/local/lib/python3.10/dist-packages (from keras) (13.9.4)\n",
            "Requirement already satisfied: namex in /usr/local/lib/python3.10/dist-packages (from keras) (0.0.8)\n",
            "Requirement already satisfied: h5py in /usr/local/lib/python3.10/dist-packages (from keras) (3.12.1)\n",
            "Requirement already satisfied: optree in /usr/local/lib/python3.10/dist-packages (from keras) (0.13.0)\n",
            "Requirement already satisfied: ml-dtypes in /usr/local/lib/python3.10/dist-packages (from keras) (0.4.1)\n",
            "Requirement already satisfied: packaging in /usr/local/lib/python3.10/dist-packages (from keras) (24.1)\n",
            "Requirement already satisfied: astunparse>=1.6.0 in /usr/local/lib/python3.10/dist-packages (from tensorflow) (1.6.3)\n",
            "Requirement already satisfied: flatbuffers>=24.3.25 in /usr/local/lib/python3.10/dist-packages (from tensorflow) (24.3.25)\n",
            "Requirement already satisfied: gast!=0.5.0,!=0.5.1,!=0.5.2,>=0.2.1 in /usr/local/lib/python3.10/dist-packages (from tensorflow) (0.6.0)\n",
            "Requirement already satisfied: google-pasta>=0.1.1 in /usr/local/lib/python3.10/dist-packages (from tensorflow) (0.2.0)\n",
            "Requirement already satisfied: libclang>=13.0.0 in /usr/local/lib/python3.10/dist-packages (from tensorflow) (18.1.1)\n",
            "Requirement already satisfied: opt-einsum>=2.3.2 in /usr/local/lib/python3.10/dist-packages (from tensorflow) (3.4.0)\n",
            "Requirement already satisfied: protobuf!=4.21.0,!=4.21.1,!=4.21.2,!=4.21.3,!=4.21.4,!=4.21.5,<5.0.0dev,>=3.20.3 in /usr/local/lib/python3.10/dist-packages (from tensorflow) (3.20.3)\n",
            "Requirement already satisfied: requests<3,>=2.21.0 in /usr/local/lib/python3.10/dist-packages (from tensorflow) (2.32.3)\n",
            "Requirement already satisfied: setuptools in /usr/local/lib/python3.10/dist-packages (from tensorflow) (75.1.0)\n",
            "Requirement already satisfied: six>=1.12.0 in /usr/local/lib/python3.10/dist-packages (from tensorflow) (1.16.0)\n",
            "Requirement already satisfied: termcolor>=1.1.0 in /usr/local/lib/python3.10/dist-packages (from tensorflow) (2.5.0)\n",
            "Requirement already satisfied: typing-extensions>=3.6.6 in /usr/local/lib/python3.10/dist-packages (from tensorflow) (4.12.2)\n",
            "Requirement already satisfied: wrapt>=1.11.0 in /usr/local/lib/python3.10/dist-packages (from tensorflow) (1.16.0)\n",
            "Requirement already satisfied: grpcio<2.0,>=1.24.3 in /usr/local/lib/python3.10/dist-packages (from tensorflow) (1.64.1)\n",
            "Requirement already satisfied: tensorboard<2.18,>=2.17 in /usr/local/lib/python3.10/dist-packages (from tensorflow) (2.17.0)\n",
            "Requirement already satisfied: tensorflow-io-gcs-filesystem>=0.23.1 in /usr/local/lib/python3.10/dist-packages (from tensorflow) (0.37.1)\n",
            "Requirement already satisfied: wheel<1.0,>=0.23.0 in /usr/local/lib/python3.10/dist-packages (from astunparse>=1.6.0->tensorflow) (0.44.0)\n",
            "Requirement already satisfied: charset-normalizer<4,>=2 in /usr/local/lib/python3.10/dist-packages (from requests<3,>=2.21.0->tensorflow) (3.4.0)\n",
            "Requirement already satisfied: idna<4,>=2.5 in /usr/local/lib/python3.10/dist-packages (from requests<3,>=2.21.0->tensorflow) (3.10)\n",
            "Requirement already satisfied: urllib3<3,>=1.21.1 in /usr/local/lib/python3.10/dist-packages (from requests<3,>=2.21.0->tensorflow) (2.2.3)\n",
            "Requirement already satisfied: certifi>=2017.4.17 in /usr/local/lib/python3.10/dist-packages (from requests<3,>=2.21.0->tensorflow) (2024.8.30)\n",
            "Requirement already satisfied: scipy>=1.6.0 in /usr/local/lib/python3.10/dist-packages (from scikit-learn>=0.24.0->sklearn-crfsuite) (1.13.1)\n",
            "Requirement already satisfied: joblib>=1.2.0 in /usr/local/lib/python3.10/dist-packages (from scikit-learn>=0.24.0->sklearn-crfsuite) (1.4.2)\n",
            "Requirement already satisfied: threadpoolctl>=3.1.0 in /usr/local/lib/python3.10/dist-packages (from scikit-learn>=0.24.0->sklearn-crfsuite) (3.5.0)\n",
            "Requirement already satisfied: markdown>=2.6.8 in /usr/local/lib/python3.10/dist-packages (from tensorboard<2.18,>=2.17->tensorflow) (3.7)\n",
            "Requirement already satisfied: tensorboard-data-server<0.8.0,>=0.7.0 in /usr/local/lib/python3.10/dist-packages (from tensorboard<2.18,>=2.17->tensorflow) (0.7.2)\n",
            "Requirement already satisfied: werkzeug>=1.0.1 in /usr/local/lib/python3.10/dist-packages (from tensorboard<2.18,>=2.17->tensorflow) (3.1.2)\n",
            "Requirement already satisfied: markdown-it-py>=2.2.0 in /usr/local/lib/python3.10/dist-packages (from rich->keras) (3.0.0)\n",
            "Requirement already satisfied: pygments<3.0.0,>=2.13.0 in /usr/local/lib/python3.10/dist-packages (from rich->keras) (2.18.0)\n",
            "Requirement already satisfied: mdurl~=0.1 in /usr/local/lib/python3.10/dist-packages (from markdown-it-py>=2.2.0->rich->keras) (0.1.2)\n",
            "Requirement already satisfied: MarkupSafe>=2.1.1 in /usr/local/lib/python3.10/dist-packages (from werkzeug>=1.0.1->tensorboard<2.18,>=2.17->tensorflow) (3.0.2)\n",
            "Downloading sklearn_crfsuite-0.5.0-py2.py3-none-any.whl (10 kB)\n",
            "Downloading pyspellchecker-0.8.1-py3-none-any.whl (6.8 MB)\n",
            "\u001b[2K   \u001b[90m━━━━━━━━━━━━━━━━━━━━━━━━━━━━━━━━━━━━━━━━\u001b[0m \u001b[32m6.8/6.8 MB\u001b[0m \u001b[31m44.3 MB/s\u001b[0m eta \u001b[36m0:00:00\u001b[0m\n",
            "\u001b[?25hDownloading python_crfsuite-0.9.11-cp310-cp310-manylinux_2_17_x86_64.manylinux2014_x86_64.whl (1.2 MB)\n",
            "\u001b[2K   \u001b[90m━━━━━━━━━━━━━━━━━━━━━━━━━━━━━━━━━━━━━━━━\u001b[0m \u001b[32m1.2/1.2 MB\u001b[0m \u001b[31m55.0 MB/s\u001b[0m eta \u001b[36m0:00:00\u001b[0m\n",
            "\u001b[?25hInstalling collected packages: python-crfsuite, pyspellchecker, sklearn-crfsuite\n",
            "Successfully installed pyspellchecker-0.8.1 python-crfsuite-0.9.11 sklearn-crfsuite-0.5.0\n"
          ]
        }
      ]
    },
    {
      "cell_type": "code",
      "source": [
        "import nltk\n",
        "import numpy as np\n",
        "from sklearn_crfsuite import CRF\n",
        "from sklearn.metrics import classification_report\n",
        "from keras.models import Sequential\n",
        "from keras.layers import Embedding, LSTM, Dense, Bidirectional, TimeDistributed\n",
        "from keras.preprocessing.sequence import pad_sequences\n",
        "from keras.utils import to_categorical\n",
        "from itertools import chain\n",
        "from spellchecker import SpellChecker\n",
        "import matplotlib.pyplot as plt\n",
        "from sklearn.metrics import accuracy_score, f1_score\n",
        "\n",
        "# Load dataset and split it into training and test sets\n",
        "nltk.download('treebank')\n",
        "sentences = nltk.corpus.treebank.tagged_sents()\n",
        "train_sents, test_sents = sentences[:3000], sentences[3000:]\n",
        "\n",
        "# Step 1: Feature extraction for CRF\n",
        "def word2features(sent, i):\n",
        "    word = sent[i][0]\n",
        "    features = {\n",
        "        'word.lower()': word.lower(),\n",
        "        'word.isupper()': word.isupper(),\n",
        "        'word.istitle()': word.istitle(),\n",
        "        'word.isdigit()': word.isdigit(),\n",
        "    }\n",
        "    if i > 0:\n",
        "        features.update({\n",
        "            '-1:word.lower()': sent[i-1][0].lower(),\n",
        "            '-1:word.istitle()': sent[i-1][0].istitle(),\n",
        "            '-1:word.isupper()': sent[i-1][0].isupper(),\n",
        "        })\n",
        "    else:\n",
        "        features['BOS'] = True\n",
        "\n",
        "    if i < len(sent)-1:\n",
        "        features.update({\n",
        "            '+1:word.lower()': sent[i+1][0].lower(),\n",
        "            '+1:word.istitle()': sent[i+1][0].istitle(),\n",
        "            '+1:word.isupper()': sent[i+1][0].isupper(),\n",
        "        })\n",
        "    else:\n",
        "        features['EOS'] = True\n",
        "\n",
        "    return features\n",
        "\n",
        "def prepare_data_crf(sents):\n",
        "    X, y = [], []\n",
        "    for sent in sents:\n",
        "        X.append([word2features(sent, i) for i in range(len(sent))])\n",
        "        y.append([tag for _, tag in sent])\n",
        "    return X, y\n",
        "\n",
        "train_X, train_y = prepare_data_crf(train_sents)\n",
        "test_X, test_y = prepare_data_crf(test_sents)\n",
        "\n",
        "# Step 2: CRF Model\n",
        "crf = CRF(algorithm='lbfgs')\n",
        "crf.fit(train_X, train_y)\n",
        "y_pred_crf = crf.predict(test_X)\n",
        "\n",
        "# Flatten labels for evaluation\n",
        "def flatten(lst):\n",
        "    return list(chain.from_iterable(lst))\n",
        "\n",
        "test_y_flat = flatten(test_y)\n",
        "y_pred_flat = flatten(y_pred_crf)\n",
        "print(\"CRF Model Classification Report\")\n",
        "print(classification_report(test_y_flat, y_pred_flat))\n",
        "\n",
        "# Step 3: Data Preparation for BiLSTM\n",
        "words = list(set(word for sent in sentences for word, _ in sent))\n",
        "tags = list(set(tag for sent in sentences for _, tag in sent))\n",
        "word2idx = {w: i + 2 for i, w in enumerate(words)}\n",
        "word2idx[\"PAD\"] = 0\n",
        "word2idx[\"UNK\"] = 1\n",
        "tag2idx = {t: i + 1 for i, t in enumerate(tags)}\n",
        "tag2idx[\"PAD\"] = 0\n",
        "\n",
        "# Encode sentences\n",
        "max_len = 50  # max sentence length\n",
        "X_train = [[word2idx.get(w[0], word2idx[\"UNK\"]) for w in s] for s in train_sents]\n",
        "X_test = [[word2idx.get(w[0], word2idx[\"UNK\"]) for w in s] for s in test_sents]\n",
        "X_train = pad_sequences(X_train, maxlen=max_len, padding=\"post\")\n",
        "X_test = pad_sequences(X_test, maxlen=max_len, padding=\"post\")\n",
        "\n",
        "# Encode labels\n",
        "y_train = [[tag2idx[w[1]] for w in s] for s in train_sents]\n",
        "y_test = [[tag2idx[w[1]] for w in s] for s in test_sents]\n",
        "y_train = pad_sequences(y_train, maxlen=max_len, padding=\"post\")\n",
        "y_test = pad_sequences(y_test, maxlen=max_len, padding=\"post\")\n",
        "y_train = [to_categorical(i, num_classes=len(tag2idx)) for i in y_train]\n",
        "y_test = [to_categorical(i, num_classes=len(tag2idx)) for i in y_test]\n",
        "\n",
        "# Step 4: BiLSTM Model\n",
        "model = Sequential()\n",
        "model.add(Embedding(input_dim=len(word2idx), output_dim=50, input_length=max_len))\n",
        "model.add(Bidirectional(LSTM(units=100, return_sequences=True, recurrent_dropout=0.1)))\n",
        "model.add(TimeDistributed(Dense(len(tag2idx), activation=\"softmax\")))\n",
        "\n",
        "model.compile(optimizer=\"adam\", loss=\"categorical_crossentropy\", metrics=[\"accuracy\"])\n",
        "model.summary()\n",
        "\n",
        "# Train BiLSTM model\n",
        "history = model.fit(np.array(X_train), np.array(y_train), batch_size=32, epochs=5, validation_split=0.1, verbose=1)\n",
        "\n",
        "# Evaluate BiLSTM model\n",
        "y_pred_bilstm = model.predict(np.array(X_test), verbose=1)\n",
        "y_pred_bilstm = np.argmax(y_pred_bilstm, axis=-1)\n",
        "y_test_true = np.argmax(np.array(y_test), axis=-1)\n",
        "\n",
        "# Map indexes to tags for evaluation\n",
        "y_pred_bilstm = [[list(tag2idx.keys())[i] for i in row] for row in y_pred_bilstm]\n",
        "y_test_true = [[list(tag2idx.keys())[i] for i in row] for row in y_test_true]\n",
        "y_test_flat = flatten(y_test_true)\n",
        "y_pred_flat_bilstm = flatten(y_pred_bilstm)\n",
        "\n",
        "print(\"BiLSTM Model Classification Report\")\n",
        "print(classification_report(y_test_flat, y_pred_flat_bilstm))\n",
        "\n",
        "# Step 5: Simple Spellchecking Component\n",
        "spell = SpellChecker()\n",
        "\n",
        "def check_spelling(word):\n",
        "    if word.lower() not in spell:\n",
        "        correction = spell.correction(word)\n",
        "        return correction if correction else word\n",
        "    return word\n",
        "\n",
        "# Example: Spellchecking output\n",
        "test_sentence = \"This is an exmple sentnce with smple errrors.\"\n",
        "corrected_sentence = \" \".join([check_spelling(word) for word in test_sentence.split()])\n",
        "print(\"\\nOriginal Sentence:\", test_sentence)\n",
        "print(\"Corrected Sentence:\", corrected_sentence)\n",
        "\n"
      ],
      "metadata": {
        "id": "-lv8OBVwpzOD",
        "colab": {
          "base_uri": "https://localhost:8080/",
          "height": 1000
        },
        "outputId": "29d4cb19-fccf-46d7-8c55-58d72eadf7b1"
      },
      "execution_count": 3,
      "outputs": [
        {
          "output_type": "stream",
          "name": "stderr",
          "text": [
            "[nltk_data] Downloading package treebank to /root/nltk_data...\n",
            "[nltk_data]   Unzipping corpora/treebank.zip.\n"
          ]
        },
        {
          "output_type": "stream",
          "name": "stdout",
          "text": [
            "CRF Model Classification Report\n"
          ]
        },
        {
          "output_type": "stream",
          "name": "stderr",
          "text": [
            "/usr/local/lib/python3.10/dist-packages/sklearn/metrics/_classification.py:1531: UndefinedMetricWarning: Precision is ill-defined and being set to 0.0 in labels with no predicted samples. Use `zero_division` parameter to control this behavior.\n",
            "  _warn_prf(average, modifier, f\"{metric.capitalize()} is\", len(result))\n",
            "/usr/local/lib/python3.10/dist-packages/sklearn/metrics/_classification.py:1531: UndefinedMetricWarning: Precision is ill-defined and being set to 0.0 in labels with no predicted samples. Use `zero_division` parameter to control this behavior.\n",
            "  _warn_prf(average, modifier, f\"{metric.capitalize()} is\", len(result))\n",
            "/usr/local/lib/python3.10/dist-packages/sklearn/metrics/_classification.py:1531: UndefinedMetricWarning: Precision is ill-defined and being set to 0.0 in labels with no predicted samples. Use `zero_division` parameter to control this behavior.\n",
            "  _warn_prf(average, modifier, f\"{metric.capitalize()} is\", len(result))\n"
          ]
        },
        {
          "output_type": "stream",
          "name": "stdout",
          "text": [
            "              precision    recall  f1-score   support\n",
            "\n",
            "           #       1.00      0.67      0.80         3\n",
            "           $       1.00      1.00      1.00       255\n",
            "          ''       1.00      1.00      1.00        92\n",
            "           ,       1.00      1.00      1.00      1106\n",
            "       -LRB-       1.00      1.00      1.00        32\n",
            "      -NONE-       0.97      1.00      0.98      1503\n",
            "       -RRB-       1.00      1.00      1.00        32\n",
            "           .       1.00      1.00      1.00       891\n",
            "           :       1.00      1.00      1.00        81\n",
            "          CC       1.00      1.00      1.00       503\n",
            "          CD       0.99      0.88      0.93      1208\n",
            "          DT       0.99      0.99      0.99      1831\n",
            "          EX       1.00      1.00      1.00        11\n",
            "          IN       0.97      0.97      0.97      2298\n",
            "          JJ       0.67      0.81      0.74      1283\n",
            "         JJR       0.86      0.70      0.77        94\n",
            "         JJS       0.93      0.60      0.72        42\n",
            "          MD       0.99      1.00      0.99       225\n",
            "          NN       0.83      0.90      0.86      3320\n",
            "         NNP       0.92      0.97      0.94      2118\n",
            "        NNPS       0.75      0.04      0.07        79\n",
            "         NNS       0.88      0.79      0.83      1332\n",
            "         PDT       0.00      0.00      0.00         6\n",
            "         POS       0.99      1.00      0.99       227\n",
            "         PRP       1.00      0.97      0.98       245\n",
            "        PRP$       1.00      0.99      1.00       133\n",
            "          RB       0.85      0.72      0.78       545\n",
            "         RBR       0.53      0.44      0.48        18\n",
            "         RBS       0.67      0.67      0.67         6\n",
            "          RP       0.58      0.71      0.64        35\n",
            "          TO       1.00      1.00      1.00       519\n",
            "          VB       0.87      0.91      0.89       550\n",
            "         VBD       0.91      0.86      0.89       904\n",
            "         VBG       0.76      0.61      0.68       306\n",
            "         VBN       0.86      0.77      0.81       522\n",
            "         VBP       0.85      0.81      0.83       177\n",
            "         VBZ       0.93      0.85      0.89       358\n",
            "         WDT       0.98      1.00      0.99       120\n",
            "          WP       1.00      1.00      1.00        26\n",
            "         WP$       0.00      0.00      0.00         4\n",
            "         WRB       1.00      0.80      0.89        30\n",
            "          ``       1.00      1.00      1.00        95\n",
            "\n",
            "    accuracy                           0.91     23165\n",
            "   macro avg       0.87      0.82      0.83     23165\n",
            "weighted avg       0.92      0.91      0.91     23165\n",
            "\n"
          ]
        },
        {
          "output_type": "stream",
          "name": "stderr",
          "text": [
            "/usr/local/lib/python3.10/dist-packages/keras/src/layers/core/embedding.py:90: UserWarning: Argument `input_length` is deprecated. Just remove it.\n",
            "  warnings.warn(\n"
          ]
        },
        {
          "output_type": "display_data",
          "data": {
            "text/plain": [
              "\u001b[1mModel: \"sequential\"\u001b[0m\n"
            ],
            "text/html": [
              "<pre style=\"white-space:pre;overflow-x:auto;line-height:normal;font-family:Menlo,'DejaVu Sans Mono',consolas,'Courier New',monospace\"><span style=\"font-weight: bold\">Model: \"sequential\"</span>\n",
              "</pre>\n"
            ]
          },
          "metadata": {}
        },
        {
          "output_type": "display_data",
          "data": {
            "text/plain": [
              "┏━━━━━━━━━━━━━━━━━━━━━━━━━━━━━━━━━━━━━━┳━━━━━━━━━━━━━━━━━━━━━━━━━━━━━┳━━━━━━━━━━━━━━━━━┓\n",
              "┃\u001b[1m \u001b[0m\u001b[1mLayer (type)                        \u001b[0m\u001b[1m \u001b[0m┃\u001b[1m \u001b[0m\u001b[1mOutput Shape               \u001b[0m\u001b[1m \u001b[0m┃\u001b[1m \u001b[0m\u001b[1m        Param #\u001b[0m\u001b[1m \u001b[0m┃\n",
              "┡━━━━━━━━━━━━━━━━━━━━━━━━━━━━━━━━━━━━━━╇━━━━━━━━━━━━━━━━━━━━━━━━━━━━━╇━━━━━━━━━━━━━━━━━┩\n",
              "│ embedding (\u001b[38;5;33mEmbedding\u001b[0m)                │ ?                           │     \u001b[38;5;34m0\u001b[0m (unbuilt) │\n",
              "├──────────────────────────────────────┼─────────────────────────────┼─────────────────┤\n",
              "│ bidirectional (\u001b[38;5;33mBidirectional\u001b[0m)        │ ?                           │     \u001b[38;5;34m0\u001b[0m (unbuilt) │\n",
              "├──────────────────────────────────────┼─────────────────────────────┼─────────────────┤\n",
              "│ time_distributed (\u001b[38;5;33mTimeDistributed\u001b[0m)   │ ?                           │     \u001b[38;5;34m0\u001b[0m (unbuilt) │\n",
              "└──────────────────────────────────────┴─────────────────────────────┴─────────────────┘\n"
            ],
            "text/html": [
              "<pre style=\"white-space:pre;overflow-x:auto;line-height:normal;font-family:Menlo,'DejaVu Sans Mono',consolas,'Courier New',monospace\">┏━━━━━━━━━━━━━━━━━━━━━━━━━━━━━━━━━━━━━━┳━━━━━━━━━━━━━━━━━━━━━━━━━━━━━┳━━━━━━━━━━━━━━━━━┓\n",
              "┃<span style=\"font-weight: bold\"> Layer (type)                         </span>┃<span style=\"font-weight: bold\"> Output Shape                </span>┃<span style=\"font-weight: bold\">         Param # </span>┃\n",
              "┡━━━━━━━━━━━━━━━━━━━━━━━━━━━━━━━━━━━━━━╇━━━━━━━━━━━━━━━━━━━━━━━━━━━━━╇━━━━━━━━━━━━━━━━━┩\n",
              "│ embedding (<span style=\"color: #0087ff; text-decoration-color: #0087ff\">Embedding</span>)                │ ?                           │     <span style=\"color: #00af00; text-decoration-color: #00af00\">0</span> (unbuilt) │\n",
              "├──────────────────────────────────────┼─────────────────────────────┼─────────────────┤\n",
              "│ bidirectional (<span style=\"color: #0087ff; text-decoration-color: #0087ff\">Bidirectional</span>)        │ ?                           │     <span style=\"color: #00af00; text-decoration-color: #00af00\">0</span> (unbuilt) │\n",
              "├──────────────────────────────────────┼─────────────────────────────┼─────────────────┤\n",
              "│ time_distributed (<span style=\"color: #0087ff; text-decoration-color: #0087ff\">TimeDistributed</span>)   │ ?                           │     <span style=\"color: #00af00; text-decoration-color: #00af00\">0</span> (unbuilt) │\n",
              "└──────────────────────────────────────┴─────────────────────────────┴─────────────────┘\n",
              "</pre>\n"
            ]
          },
          "metadata": {}
        },
        {
          "output_type": "display_data",
          "data": {
            "text/plain": [
              "\u001b[1m Total params: \u001b[0m\u001b[38;5;34m0\u001b[0m (0.00 B)\n"
            ],
            "text/html": [
              "<pre style=\"white-space:pre;overflow-x:auto;line-height:normal;font-family:Menlo,'DejaVu Sans Mono',consolas,'Courier New',monospace\"><span style=\"font-weight: bold\"> Total params: </span><span style=\"color: #00af00; text-decoration-color: #00af00\">0</span> (0.00 B)\n",
              "</pre>\n"
            ]
          },
          "metadata": {}
        },
        {
          "output_type": "display_data",
          "data": {
            "text/plain": [
              "\u001b[1m Trainable params: \u001b[0m\u001b[38;5;34m0\u001b[0m (0.00 B)\n"
            ],
            "text/html": [
              "<pre style=\"white-space:pre;overflow-x:auto;line-height:normal;font-family:Menlo,'DejaVu Sans Mono',consolas,'Courier New',monospace\"><span style=\"font-weight: bold\"> Trainable params: </span><span style=\"color: #00af00; text-decoration-color: #00af00\">0</span> (0.00 B)\n",
              "</pre>\n"
            ]
          },
          "metadata": {}
        },
        {
          "output_type": "display_data",
          "data": {
            "text/plain": [
              "\u001b[1m Non-trainable params: \u001b[0m\u001b[38;5;34m0\u001b[0m (0.00 B)\n"
            ],
            "text/html": [
              "<pre style=\"white-space:pre;overflow-x:auto;line-height:normal;font-family:Menlo,'DejaVu Sans Mono',consolas,'Courier New',monospace\"><span style=\"font-weight: bold\"> Non-trainable params: </span><span style=\"color: #00af00; text-decoration-color: #00af00\">0</span> (0.00 B)\n",
              "</pre>\n"
            ]
          },
          "metadata": {}
        },
        {
          "output_type": "stream",
          "name": "stdout",
          "text": [
            "Epoch 1/5\n",
            "\u001b[1m85/85\u001b[0m \u001b[32m━━━━━━━━━━━━━━━━━━━━\u001b[0m\u001b[37m\u001b[0m \u001b[1m17s\u001b[0m 121ms/step - accuracy: 0.4900 - loss: 2.3254 - val_accuracy: 0.6089 - val_loss: 1.3969\n",
            "Epoch 2/5\n",
            "\u001b[1m85/85\u001b[0m \u001b[32m━━━━━━━━━━━━━━━━━━━━\u001b[0m\u001b[37m\u001b[0m \u001b[1m18s\u001b[0m 90ms/step - accuracy: 0.6650 - loss: 1.3172 - val_accuracy: 0.7727 - val_loss: 0.8608\n",
            "Epoch 3/5\n",
            "\u001b[1m85/85\u001b[0m \u001b[32m━━━━━━━━━━━━━━━━━━━━\u001b[0m\u001b[37m\u001b[0m \u001b[1m11s\u001b[0m 93ms/step - accuracy: 0.8004 - loss: 0.7609 - val_accuracy: 0.8855 - val_loss: 0.4826\n",
            "Epoch 4/5\n",
            "\u001b[1m85/85\u001b[0m \u001b[32m━━━━━━━━━━━━━━━━━━━━\u001b[0m\u001b[37m\u001b[0m \u001b[1m12s\u001b[0m 110ms/step - accuracy: 0.9112 - loss: 0.3923 - val_accuracy: 0.9273 - val_loss: 0.3066\n",
            "Epoch 5/5\n",
            "\u001b[1m85/85\u001b[0m \u001b[32m━━━━━━━━━━━━━━━━━━━━\u001b[0m\u001b[37m\u001b[0m \u001b[1m9s\u001b[0m 109ms/step - accuracy: 0.9579 - loss: 0.2102 - val_accuracy: 0.9405 - val_loss: 0.2305\n",
            "\u001b[1m29/29\u001b[0m \u001b[32m━━━━━━━━━━━━━━━━━━━━\u001b[0m\u001b[37m\u001b[0m \u001b[1m2s\u001b[0m 44ms/step\n",
            "BiLSTM Model Classification Report\n"
          ]
        },
        {
          "output_type": "stream",
          "name": "stderr",
          "text": [
            "/usr/local/lib/python3.10/dist-packages/sklearn/metrics/_classification.py:1531: UndefinedMetricWarning: Precision is ill-defined and being set to 0.0 in labels with no predicted samples. Use `zero_division` parameter to control this behavior.\n",
            "  _warn_prf(average, modifier, f\"{metric.capitalize()} is\", len(result))\n",
            "/usr/local/lib/python3.10/dist-packages/sklearn/metrics/_classification.py:1531: UndefinedMetricWarning: Precision is ill-defined and being set to 0.0 in labels with no predicted samples. Use `zero_division` parameter to control this behavior.\n",
            "  _warn_prf(average, modifier, f\"{metric.capitalize()} is\", len(result))\n",
            "/usr/local/lib/python3.10/dist-packages/sklearn/metrics/_classification.py:1531: UndefinedMetricWarning: Precision is ill-defined and being set to 0.0 in labels with no predicted samples. Use `zero_division` parameter to control this behavior.\n",
            "  _warn_prf(average, modifier, f\"{metric.capitalize()} is\", len(result))\n"
          ]
        },
        {
          "output_type": "stream",
          "name": "stdout",
          "text": [
            "              precision    recall  f1-score   support\n",
            "\n",
            "           #       0.76      1.00      0.86        80\n",
            "           $       0.98      0.99      0.99       226\n",
            "          ''       0.93      0.78      0.85      1208\n",
            "           ,       0.00      0.00      0.00        11\n",
            "       -LRB-       0.99      1.00      0.99       225\n",
            "       -RRB-       0.58      1.00      0.73        26\n",
            "           .       0.90      0.84      0.87       358\n",
            "           :       0.81      0.94      0.87       550\n",
            "          CC       0.82      0.86      0.84      2087\n",
            "          CD       0.00      0.00      0.00         6\n",
            "          DT       0.00      0.00      0.00         5\n",
            "          EX       0.44      0.34      0.39        35\n",
            "          FW       0.00      0.00      0.00        30\n",
            "          IN       1.00      1.00      1.00       516\n",
            "          JJ       0.00      0.00      0.00        18\n",
            "         JJR       0.87      0.84      0.85      1326\n",
            "         JJS       0.00      0.00      0.00         4\n",
            "          LS       1.00      0.07      0.13        42\n",
            "          MD       0.83      0.91      0.87      3306\n",
            "          NN       0.99      0.99      0.99       245\n",
            "         NNP       1.00      1.00      1.00      1099\n",
            "        NNPS       1.00      1.00      1.00       255\n",
            "         NNS       0.82      0.71      0.76       518\n",
            "         PAD       1.00      0.14      0.24        29\n",
            "         PDT       1.00      1.00      1.00     22657\n",
            "         POS       1.00      0.95      0.97       132\n",
            "         PRP       0.00      0.00      0.00        31\n",
            "        PRP$       1.00      1.00      1.00       891\n",
            "          RB       0.93      0.72      0.81       176\n",
            "         RBS       0.63      0.61      0.62       304\n",
            "          RP       0.99      1.00      0.99      1498\n",
            "          TO       0.65      0.16      0.26        94\n",
            "          UH       0.89      0.87      0.88       903\n",
            "          VB       0.99      0.99      0.99        92\n",
            "         VBD       0.00      0.00      0.00        78\n",
            "         VBG       0.96      0.98      0.97      2288\n",
            "         VBP       0.73      0.80      0.76      1274\n",
            "         VBZ       0.99      1.00      0.99       499\n",
            "         WDT       0.99      0.99      0.99      1818\n",
            "          WP       0.00      0.00      0.00         3\n",
            "         WP$       1.00      0.99      0.99        95\n",
            "         WRB       0.72      0.74      0.73       542\n",
            "          ``       0.91      0.95      0.93       120\n",
            "\n",
            "    accuracy                           0.95     45700\n",
            "   macro avg       0.70      0.65      0.65     45700\n",
            "weighted avg       0.94      0.95      0.94     45700\n",
            "\n",
            "\n",
            "Original Sentence: This is an exmple sentnce with smple errrors.\n",
            "Corrected Sentence: This is an example sentence with simple errors\n"
          ]
        }
      ]
    },
    {
      "cell_type": "code",
      "source": [
        "\n",
        "# Calculate accuracy and F1 scores for CRF\n",
        "crf_accuracy = accuracy_score(test_y_flat, y_pred_flat)\n",
        "crf_f1 = f1_score(test_y_flat, y_pred_flat, average='weighted')\n",
        "\n",
        "# Calculate accuracy and F1 scores for BiLSTM\n",
        "bilstm_accuracy = accuracy_score(y_test_flat, y_pred_flat_bilstm)\n",
        "bilstm_f1 = f1_score(y_test_flat, y_pred_flat_bilstm, average='weighted')\n",
        "\n",
        "# Plotting the results\n",
        "models = ['CRF', 'BiLSTM']\n",
        "accuracies = [crf_accuracy, bilstm_accuracy]\n",
        "f1_scores = [crf_f1, bilstm_f1]\n",
        "\n",
        "fig, ax = plt.subplots(1, 2, figsize=(12, 6))\n",
        "\n",
        "# Bar plot for Accuracy\n",
        "ax[0].bar(models, accuracies, color=['skyblue', 'salmon'])\n",
        "ax[0].set_title('Model Accuracy Comparison')\n",
        "ax[0].set_ylabel('Accuracy')\n",
        "ax[0].set_ylim(0, 1)\n",
        "for i, v in enumerate(accuracies):\n",
        "    ax[0].text(i, v + 0.02, f\"{v:.2f}\", ha='center')\n",
        "\n",
        "# Bar plot for F1 Score\n",
        "ax[1].bar(models, f1_scores, color=['skyblue', 'salmon'])\n",
        "ax[1].set_title('Model F1 Score Comparison')\n",
        "ax[1].set_ylabel('F1 Score')\n",
        "ax[1].set_ylim(0, 1)\n",
        "for i, v in enumerate(f1_scores):\n",
        "    ax[1].text(i, v + 0.02, f\"{v:.2f}\", ha='center')\n",
        "\n",
        "plt.tight_layout()\n",
        "plt.show()"
      ],
      "metadata": {
        "colab": {
          "base_uri": "https://localhost:8080/",
          "height": 607
        },
        "id": "Wm0vTXLxVXrw",
        "outputId": "637b29bb-5902-4e99-9c14-258e01f4ea47"
      },
      "execution_count": 4,
      "outputs": [
        {
          "output_type": "display_data",
          "data": {
            "text/plain": [
              "<Figure size 1200x600 with 2 Axes>"
            ],
            "image/png": "[encoded data removed]"
          },
          "metadata": {}
        }
      ]
    }
  ]
}